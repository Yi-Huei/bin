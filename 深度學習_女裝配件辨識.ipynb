{
 "cells": [
  {
   "cell_type": "markdown",
   "metadata": {},
   "source": [
    "# 深度學習_女裝配件辨識\n",
    "Tensorflow官網提供程式碼與資料集   \n",
    "[資料集](https://medium.com/tensorflow/hello-deep-learning-fashion-mnist-with-keras-50fcff8cd74a)  \n",
    "[作法參考](https://ithelp.ithome.com.tw/articles/10233758)\n",
    "\n",
    "資料集類別描述:  \n",
    "0 T-shirt/top  \n",
    "1 Trouser  \n",
    "2 Pullover  \n",
    "3 Dress  \n",
    "4 Coat  \n",
    "5 Sandal  \n",
    "6 Shirt  \n",
    "7 Sneaker  \n",
    "8 Bag  \n",
    "9 Ankle boot"
   ]
  },
  {
   "cell_type": "markdown",
   "metadata": {},
   "source": [
    "## 一、載入資料並分割"
   ]
  },
  {
   "cell_type": "code",
   "execution_count": 2,
   "metadata": {},
   "outputs": [
    {
     "data": {
      "text/plain": [
       "((60000, 28, 28), (60000,), (10000, 28, 28), (10000,))"
      ]
     },
     "execution_count": 2,
     "metadata": {},
     "output_type": "execute_result"
    }
   ],
   "source": [
    "import tensorflow as tf\n",
    "import matplotlib.pyplot as plt\n",
    "\n",
    "mnist = tf.keras.datasets.mnist\n",
    "\n",
    "#載入資料集mnist，並執行切割\n",
    "ds = tf.keras.datasets.fashion_mnist.load_data()\n",
    "(x_train, y_train),(x_test, y_test) = ds\n",
    "x_train.shape, y_train.shape, x_test.shape, y_test.shape"
   ]
  },
  {
   "cell_type": "markdown",
   "metadata": {},
   "source": [
    "X訓練資料 -> 6萬筆圖片(28*28pix)， y訓練資料 -> 6萬筆答案\n",
    "\n",
    "X測試資料 -> 1萬筆圖片(28*28pix)， y測試資料 -> 1萬筆答案"
   ]
  },
  {
   "cell_type": "code",
   "execution_count": 3,
   "metadata": {},
   "outputs": [
    {
     "name": "stdout",
     "output_type": "stream",
     "text": [
      "訓練資料第2筆，標記為-T袖/上衣(0)-\n"
     ]
    },
    {
     "data": {
      "text/plain": [
       "<matplotlib.image.AxesImage at 0x1d5a4783730>"
      ]
     },
     "execution_count": 3,
     "metadata": {},
     "output_type": "execute_result"
    },
    {
     "data": {
      "image/png": "[encoded data removed]",
      "text/plain": [
       "<Figure size 432x288 with 1 Axes>"
      ]
     },
     "metadata": {
      "needs_background": "light"
     },
     "output_type": "display_data"
    }
   ],
   "source": [
    "# Define the text labels\n",
    "fashion_mnist_labels = [\"T袖/上衣\",   # index 0\n",
    "                        \"長褲\",       # index 1\n",
    "                        \"套頭衫\",     # index 2 \n",
    "                        \"洋裝\",       # index 3 \n",
    "                        \"外套\",       # index 4\n",
    "                        \"涼鞋\",       # index 5\n",
    "                        \"襯衫\",       # index 6 \n",
    "                        \"運動鞋\",     # index 7 \n",
    "                        \"皮包\",       # index 8 \n",
    "                        \"短靴\"]       # index 9\n",
    "img_index = 2\n",
    "lab_index = y_train[img_index]\n",
    "print(f'訓練資料第{img_index}筆，標記為-{fashion_mnist_labels[lab_index]}({lab_index})-')\n",
    "plt.imshow(x_train[img_index])"
   ]
  },
  {
   "cell_type": "code",
   "execution_count": 4,
   "metadata": {},
   "outputs": [
    {
     "data": {
      "text/plain": [
       "array([9, 0, 0, 3, 0, 2, 7, 2, 5, 5], dtype=uint8)"
      ]
     },
     "execution_count": 4,
     "metadata": {},
     "output_type": "execute_result"
    }
   ],
   "source": [
    "# 顯示前10筆y_train\n",
    "y_train[:10]"
   ]
  },
  {
   "cell_type": "markdown",
   "metadata": {},
   "source": [
    "## 二、特徵工程"
   ]
  },
  {
   "cell_type": "code",
   "execution_count": 6,
   "metadata": {},
   "outputs": [],
   "source": [
    "#特徵工程: (X-min)/(255-0)常態化\n",
    "x_train_norm, x_test_norm = x_train / 255.0, x_test / 255.0\n",
    "\n",
    "# 顯示第一筆資料\n",
    "# x_train_norm[0]"
   ]
  },
  {
   "cell_type": "markdown",
   "metadata": {},
   "source": [
    "## 三、訓練模型"
   ]
  },
  {
   "cell_type": "code",
   "execution_count": 6,
   "metadata": {},
   "outputs": [],
   "source": [
    "#套入模型: Deep Learning\n",
    "model = tf.keras.models.Sequential([\n",
    "  tf.keras.layers.Flatten(input_shape=(28, 28)),  #圖片28*28pix，input為這784\n",
    "  tf.keras.layers.Dense(128, activation='relu'),  #Dense為連結層，128個神經元\n",
    "  tf.keras.layers.Dropout(0.2),                   #訓練過程中隨機丟棄20%神經元\n",
    "  tf.keras.layers.Dense(10, activation='softmax') #結果0~9，10個結果\n",
    "])"
   ]
  },
  {
   "cell_type": "code",
   "execution_count": 7,
   "metadata": {},
   "outputs": [],
   "source": [
    "optimizer = tf.keras.optimizers.SGD(learning_rate=0.1) #隨機梯度下降，註解3\n",
    "model.compile(optimizer=optimizer, #'adam',\n",
    "              loss='sparse_categorical_crossentropy',\n",
    "              metrics=['accuracy'])"
   ]
  },
  {
   "cell_type": "code",
   "execution_count": 8,
   "metadata": {},
   "outputs": [
    {
     "name": "stdout",
     "output_type": "stream",
     "text": [
      "Epoch 1/10\n",
      "1464/1500 [============================>.] - ETA: 0s - loss: 0.5961 - accuracy: 0.7889WARNING:tensorflow:Callbacks method `on_test_batch_begin` is slow compared to the batch time (batch time: 0.0000s vs `on_test_batch_begin` time: 0.0010s). Check your callbacks.\n",
      "1500/1500 [==============================] - 1s 873us/step - loss: 0.5938 - accuracy: 0.7896 - val_loss: 0.4362 - val_accuracy: 0.8447\n",
      "Epoch 2/10\n",
      "1500/1500 [==============================] - 1s 750us/step - loss: 0.4389 - accuracy: 0.8414 - val_loss: 0.4248 - val_accuracy: 0.8388\n",
      "Epoch 3/10\n",
      "1500/1500 [==============================] - 1s 754us/step - loss: 0.3993 - accuracy: 0.8546 - val_loss: 0.3820 - val_accuracy: 0.8625\n",
      "Epoch 4/10\n",
      "1500/1500 [==============================] - 1s 749us/step - loss: 0.3762 - accuracy: 0.8623 - val_loss: 0.4052 - val_accuracy: 0.8533\n",
      "Epoch 5/10\n",
      "1500/1500 [==============================] - 1s 751us/step - loss: 0.3608 - accuracy: 0.8676 - val_loss: 0.3583 - val_accuracy: 0.8723\n",
      "Epoch 6/10\n",
      "1500/1500 [==============================] - 1s 748us/step - loss: 0.3472 - accuracy: 0.8720 - val_loss: 0.3548 - val_accuracy: 0.8728\n",
      "Epoch 7/10\n",
      "1500/1500 [==============================] - 1s 798us/step - loss: 0.3387 - accuracy: 0.8751 - val_loss: 0.3449 - val_accuracy: 0.8755\n",
      "Epoch 8/10\n",
      "1500/1500 [==============================] - 1s 936us/step - loss: 0.3253 - accuracy: 0.8795 - val_loss: 0.3633 - val_accuracy: 0.8703\n",
      "Epoch 9/10\n",
      "1500/1500 [==============================] - 1s 978us/step - loss: 0.3181 - accuracy: 0.8826 - val_loss: 0.3384 - val_accuracy: 0.8783\n",
      "Epoch 10/10\n",
      "1500/1500 [==============================] - 2s 1ms/step - loss: 0.3102 - accuracy: 0.8848 - val_loss: 0.3284 - val_accuracy: 0.8813\n"
     ]
    }
   ],
   "source": [
    "#訓練\n",
    "history = model.fit(x_train_norm, y_train, epochs=10, validation_split=0.2)"
   ]
  },
  {
   "cell_type": "markdown",
   "metadata": {},
   "source": [
    "## 四、評估"
   ]
  },
  {
   "cell_type": "code",
   "execution_count": 9,
   "metadata": {},
   "outputs": [
    {
     "data": {
      "text/plain": [
       "[0.36040425300598145, 0.8708000183105469]"
      ]
     },
     "execution_count": 9,
     "metadata": {},
     "output_type": "execute_result"
    }
   ],
   "source": [
    "# 評估，打分數\n",
    "score=model.evaluate(x_test_norm, y_test, verbose=0)\n",
    "score"
   ]
  },
  {
   "cell_type": "code",
   "execution_count": 10,
   "metadata": {},
   "outputs": [
    {
     "data": {
      "text/plain": [
       "[<matplotlib.lines.Line2D at 0x29ffea03e50>]"
      ]
     },
     "execution_count": 10,
     "metadata": {},
     "output_type": "execute_result"
    },
    {
     "data": {
      "image/png": "[encoded data removed]",
      "text/plain": [
       "<Figure size 432x288 with 1 Axes>"
      ]
     },
     "metadata": {
      "needs_background": "light"
     },
     "output_type": "display_data"
    }
   ],
   "source": [
    "# 對訓練過程的準確度繪圖\n",
    "import matplotlib.pyplot as plt\n",
    "plt.plot(history.history['accuracy'], 'r')\n",
    "plt.plot(history.history['val_accuracy'], 'g')"
   ]
  },
  {
   "cell_type": "code",
   "execution_count": 11,
   "metadata": {},
   "outputs": [
    {
     "data": {
      "text/plain": [
       "[<matplotlib.lines.Line2D at 0x29ffea66310>]"
      ]
     },
     "execution_count": 11,
     "metadata": {},
     "output_type": "execute_result"
    },
    {
     "data": {
      "image/png": "[encoded data removed]",
      "text/plain": [
       "<Figure size 432x288 with 1 Axes>"
      ]
     },
     "metadata": {
      "needs_background": "light"
     },
     "output_type": "display_data"
    }
   ],
   "source": [
    "# 對訓練過程的損失函數繪圖\n",
    "import matplotlib.pyplot as plt\n",
    "plt.plot(history.history['loss'], 'r')\n",
    "plt.plot(history.history['val_loss'], 'g')"
   ]
  },
  {
   "cell_type": "code",
   "execution_count": 12,
   "metadata": {},
   "outputs": [
    {
     "name": "stdout",
     "output_type": "stream",
     "text": [
      "WARNING:tensorflow:From <ipython-input-12-786cfc5fa923>:1: Sequential.predict_classes (from tensorflow.python.keras.engine.sequential) is deprecated and will be removed after 2021-01-01.\n",
      "Instructions for updating:\n",
      "Please use instead:* `np.argmax(model.predict(x), axis=-1)`,   if your model does multi-class classification   (e.g. if it uses a `softmax` last-layer activation).* `(model.predict(x) > 0.5).astype(\"int32\")`,   if your model does binary classification   (e.g. if it uses a `sigmoid` last-layer activation).\n",
      "prediction: [9 2 1 1 6 1 4 6 5 7 4 5 5 3 4 1 2 2 8 0]\n",
      "actual    : [9 2 1 1 6 1 4 6 5 7 4 5 7 3 4 1 2 4 8 0]\n"
     ]
    }
   ],
   "source": [
    "predictions = model.predict_classes(x_test_norm)\n",
    "# get prediction result\n",
    "print('prediction:', predictions[0:20])\n",
    "print('actual    :', y_test[0:20])"
   ]
  },
  {
   "cell_type": "code",
   "execution_count": 13,
   "metadata": {},
   "outputs": [
    {
     "name": "stdout",
     "output_type": "stream",
     "text": [
      "Model: \"sequential\"\n",
      "_________________________________________________________________\n",
      "Layer (type)                 Output Shape              Param #   \n",
      "=================================================================\n",
      "flatten (Flatten)            (None, 784)               0         \n",
      "_________________________________________________________________\n",
      "dense (Dense)                (None, 128)               100480    \n",
      "_________________________________________________________________\n",
      "dropout (Dropout)            (None, 128)               0         \n",
      "_________________________________________________________________\n",
      "dense_1 (Dense)              (None, 10)                1290      \n",
      "=================================================================\n",
      "Total params: 101,770\n",
      "Trainable params: 101,770\n",
      "Non-trainable params: 0\n",
      "_________________________________________________________________\n"
     ]
    }
   ],
   "source": [
    "# 顯示模型的彙總資訊\n",
    "model.summary()"
   ]
  },
  {
   "cell_type": "markdown",
   "metadata": {},
   "source": [
    "## 實物測試 \n",
    "利用Windows圖形介面，透過拖曳，取得圖片檔，顯示並使用已訓練好模型進行預測，並顯示  \n",
    "\n",
    "為了可以拖曳圖片後，顯示影像需安裝以下2個套件  \n",
    "\n",
    "pip install windnd\n",
    "\n",
    "pip install pillow"
   ]
  },
  {
   "cell_type": "code",
   "execution_count": null,
   "metadata": {},
   "outputs": [],
   "source": [
    "# 在CMD下安裝 pip install windnd與pip install pillow\n",
    "import tkinter as tk\n",
    "from tkinter.messagebox import showinfo\n",
    "import windnd\n",
    "from PIL import Image, ImageTk\n",
    "from skimage import io\n",
    "from skimage.transform import resize\n",
    "import numpy as np\n",
    "\n",
    "def dragged_files(files):\n",
    "    #取得檔案路徑(只能取英文路徑)\n",
    "    msg = '\\n'.join((item.decode('gbk') for item in files))\n",
    "    \n",
    "    #顯示圖片\n",
    "    im = Image.open(msg) #只能辨識英文路徑\n",
    "    img = ImageTk.PhotoImage(im)\n",
    "    img_lab.config(image=img)\n",
    "    img_lab.image = img\n",
    "    img_lab.pack()\n",
    "    \n",
    "    #進行預測\n",
    "    image1 = io.imread(msg, as_gray=True)\n",
    "    image_resized = resize(image1, (28, 28), anti_aliasing=True)    \n",
    "    X1 = image_resized.reshape(1, 28, 28) #/ 255\n",
    "    X1 = np.abs(1-X1)\n",
    "    predictions = model.predict_classes(X1)\n",
    "    \n",
    "    #顯示影像與圖片\n",
    "    print(fashion_mnist_labels[int(predictions)])   \n",
    "    print(predictions)\n",
    "    plt.imshow(X1.reshape(28,28))\n",
    "    plt.show() \n",
    "    \n",
    "    #顯示預測值\n",
    "    strVar.set(f'該圖片為- {fashion_mnist_labels[int(predictions)]} -')\n",
    "    \n",
    "window = tk.Tk()\n",
    "window.geometry('300x320')\n",
    "window.title('圖片辨識')\n",
    "\n",
    "#顯示答案\n",
    "strVar = tk.StringVar()  #建立可更改Label之變數\n",
    "strVar.set(\"  \")\n",
    "resultLab = tk.Label(window,\n",
    "                     textvariable = strVar,\n",
    "                     font = ('Arial', 12),\n",
    "                     width = 30, height = 2)\n",
    "resultLab.pack()\n",
    "\n",
    "#圖檔frame\n",
    "textImg = tk.StringVar()\n",
    "textImg.set('請拖曳圖片到此，進行辨識')\n",
    "img_lab = tk.Label(window,\n",
    "                    textvariable = textImg,\n",
    "                    font = ('Arial', 12),\n",
    "                    width = 300, height = 300)\n",
    "img_lab.pack()\n",
    "\n",
    "windnd.hook_dropfiles(window, func=dragged_files)\n",
    "window.mainloop()"
   ]
  },
  {
   "cell_type": "markdown",
   "metadata": {},
   "source": [
    "**執行結果**\n",
    "<img src=\"https://github.com/Yi-Huei/bin/blob/master/images/DL_Clothes.png?raw=true\" style=\"zoom:60%\" />"
   ]
  },
  {
   "cell_type": "markdown",
   "metadata": {},
   "source": [
    "**結論:準確度為86.61%，並不高，且測試後出錯也不少**"
   ]
  },
  {
   "cell_type": "markdown",
   "metadata": {},
   "source": [
    "## 完整程式碼"
   ]
  },
  {
   "cell_type": "code",
   "execution_count": null,
   "metadata": {},
   "outputs": [],
   "source": [
    "import tensorflow as tf\n",
    "import matplotlib.pyplot as plt\n",
    "\n",
    "mnist = tf.keras.datasets.mnist\n",
    "\n",
    "ds = tf.keras.datasets.fashion_mnist.load_data()\n",
    "(x_train, y_train),(x_test, y_test) = ds\n",
    "\n",
    "# labels\n",
    "fashion_mnist_labels = [\"T袖/上衣\",   # index 0\n",
    "                        \"長褲\",       # index 1\n",
    "                        \"套頭衫\",     # index 2 \n",
    "                        \"洋裝\",       # index 3 \n",
    "                        \"外套\",       # index 4\n",
    "                        \"涼鞋\",       # index 5\n",
    "                        \"襯衫\",       # index 6 \n",
    "                        \"運動鞋\",     # index 7 \n",
    "                        \"皮包\",       # index 8 \n",
    "                        \"短靴\"]       # index 9\n",
    "\n",
    "x_train_norm, x_test_norm = x_train / 255.0, x_test / 255.0\n",
    "\n",
    "#模型: Deep Learning\n",
    "model = tf.keras.models.Sequential([\n",
    "  tf.keras.layers.Flatten(input_shape=(28, 28)),  #圖片28*28pix，input為這784\n",
    "  tf.keras.layers.Dense(128, activation='relu'),  #Dense為連結層，128個神經元\n",
    "  tf.keras.layers.Dropout(0.2),                   #訓練過程中隨機丟棄20%神經元\n",
    "  tf.keras.layers.Dense(10, activation='softmax') #結果0~9，10個結果\n",
    "])\n",
    "optimizer = tf.keras.optimizers.SGD(learning_rate=0.1) \n",
    "model.compile(optimizer=optimizer, #'adam',\n",
    "              loss='sparse_categorical_crossentropy',\n",
    "              metrics=['accuracy'])\n",
    "history = model.fit(x_train_norm, y_train, epochs=10, validation_split=0.2)\n",
    "score=model.evaluate(x_test_norm, y_test, verbose=0)\n",
    "print(score)\n",
    "\n",
    "predictions = model.predict_classes(x_test_norm)\n",
    "print('prediction:', predictions[0:20])\n",
    "print('actual    :', y_test[0:20])"
   ]
  }
 ],
 "metadata": {
  "kernelspec": {
   "display_name": "Python 3",
   "language": "python",
   "name": "python3"
  },
  "language_info": {
   "codemirror_mode": {
    "name": "ipython",
    "version": 3
   },
   "file_extension": ".py",
   "mimetype": "text/x-python",
   "name": "python",
   "nbconvert_exporter": "python",
   "pygments_lexer": "ipython3",
   "version": "3.8.3"
  }
 },
 "nbformat": 4,
 "nbformat_minor": 4
}
