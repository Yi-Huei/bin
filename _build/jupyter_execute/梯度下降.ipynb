{
 "cells": [
  {
   "cell_type": "markdown",
   "metadata": {},
   "source": [
    "## Lab1\n",
    "目標函數為:$x^3-2^x+100$\n",
    "\n",
    "結果: 學習率0.07以下，且x起始值應為正值\n"
   ]
  },
  {
   "cell_type": "code",
   "execution_count": 1,
   "metadata": {},
   "outputs": [
    {
     "name": "stdout",
     "output_type": "stream",
     "text": [
      "[5.         4.27       3.743013   3.34270861 3.02749758 2.77252534\n",
      " 2.56191843 2.38501565 2.23436666 2.10459483 1.99171525 1.89270736\n",
      " 1.80523713 1.72747069 1.65794604 1.59548249 1.53911556 1.48804926\n",
      " 1.44162054 1.39927245 1.36053355]\n"
     ]
    },
    {
     "data": {
      "image/png": "[encoded data removed]",
      "text/plain": [
       "<Figure size 432x288 with 1 Axes>"
      ]
     },
     "metadata": {
      "filenames": {
       "image/png": "C:\\AI\\Jupyter_Book\\bin\\_build\\jupyter_execute\\梯度下降_1_1.png"
      },
      "needs_background": "light"
     },
     "output_type": "display_data"
    }
   ],
   "source": [
    "import numpy as np\n",
    "from sympy import *\n",
    "import matplotlib.pyplot as plt\n",
    "\n",
    "a = Symbol('a')\n",
    "fa = a**3-2*a+100\n",
    " \n",
    "# 目標函數\n",
    "def func(x): \n",
    "    f = lambdify(a, fa)\n",
    "    return f(x)\n",
    "\n",
    "# 目標函數一階導數:\n",
    "def dfunc(x):\n",
    "    fprime = fa.diff(a)\n",
    "    df = lambdify(a, fprime)\n",
    "    return df(x)\n",
    "\n",
    "def GD(x_start, df, epochs, lr):    \n",
    "    \"\"\"  梯度下降法。給定起始點與目標函數的一階導函數，求在epochs次反覆運算中x的更新值\n",
    "        :param x_start: x的起始點    \n",
    "        :param df: 目標函數的一階導函數    \n",
    "        :param epochs: 反覆運算週期    \n",
    "        :param lr: 學習率    \n",
    "        :return: x在每次反覆運算後的位置（包括起始點），長度為epochs+1    \n",
    "     \"\"\"    \n",
    "    xs = np.zeros(epochs+1)    \n",
    "    x = x_start    \n",
    "    xs[0] = x    \n",
    "    for i in range(epochs):         \n",
    "        dx = df(x)        \n",
    "        # v表示x要改變的幅度        \n",
    "        v = - dx * lr        \n",
    "        x += v        \n",
    "        xs[i+1] = x    \n",
    "    return xs\n",
    "\n",
    "# Main\n",
    "# 起始權重\n",
    "x_start = 5 \n",
    "# 執行週期數\n",
    "epochs = 20\n",
    "# 學習率   \n",
    "lr = 0.01\n",
    "# 梯度下降法 \n",
    "# *** Function 可以直接當參數傳遞 ***\n",
    "x = GD(x_start, dfunc, epochs, lr=lr) \n",
    "print (x)\n",
    "# 輸出：[-5.     -2.     -0.8    -0.32   -0.128  -0.0512]\n",
    "\n",
    "color = 'r'    \n",
    "#plt.plot(line_x, line_y, c='b')    \n",
    "from numpy import arange\n",
    "t = arange(-6.0, 6.0, 0.01)\n",
    "plt.plot(t, func(t), c='b')\n",
    "plt.plot(x, func(x), c=color, label='lr={}'.format(lr))    \n",
    "plt.scatter(x, func(x), c=color, )    \n",
    "plt.legend()\n",
    "\n",
    "plt.show()"
   ]
  },
  {
   "cell_type": "markdown",
   "metadata": {},
   "source": [
    "## Lab_1\n",
    "目標函數: $-5^2+3x+6$\n",
    "\n",
    "結果:學習率1r應為負值"
   ]
  },
  {
   "cell_type": "code",
   "execution_count": 2,
   "metadata": {},
   "outputs": [
    {
     "name": "stdout",
     "output_type": "stream",
     "text": [
      "[-5.         -3.41       -2.297      -1.5179     -0.97253    -0.590771\n",
      " -0.3235397  -0.13647779 -0.00553445  0.08612588  0.15028812  0.19520168\n",
      "  0.22664118  0.24864882  0.26405418  0.27483792  0.28238655  0.28767058\n",
      "  0.29136941  0.29395859  0.29577101]\n"
     ]
    },
    {
     "data": {
      "image/png": "[encoded data removed]",
      "text/plain": [
       "<Figure size 432x288 with 1 Axes>"
      ]
     },
     "metadata": {
      "filenames": {
       "image/png": "C:\\AI\\Jupyter_Book\\bin\\_build\\jupyter_execute\\梯度下降_3_1.png"
      },
      "needs_background": "light"
     },
     "output_type": "display_data"
    }
   ],
   "source": [
    "import numpy as np\n",
    "from sympy import *\n",
    "import matplotlib.pyplot as plt\n",
    "\n",
    "a = Symbol('a')\n",
    "fa = -5*a**2 + 3*a + 6\n",
    " \n",
    "# 目標函數\n",
    "def func(x): \n",
    "    f = lambdify(a, fa)\n",
    "    return f(x)\n",
    "\n",
    "# 目標函數一階導數:\n",
    "def dfunc(x):\n",
    "    fprime = fa.diff(a)\n",
    "    df = lambdify(a, fprime)\n",
    "    return df(x)\n",
    "\n",
    "def GD(x_start, df, epochs, lr):    \n",
    "    \"\"\"  梯度下降法。給定起始點與目標函數的一階導函數，求在epochs次反覆運算中x的更新值\n",
    "        :param x_start: x的起始點    \n",
    "        :param df: 目標函數的一階導函數    \n",
    "        :param epochs: 反覆運算週期    \n",
    "        :param lr: 學習率    \n",
    "        :return: x在每次反覆運算後的位置（包括起始點），長度為epochs+1    \n",
    "     \"\"\"    \n",
    "    xs = np.zeros(epochs+1)    \n",
    "    x = x_start    \n",
    "    xs[0] = x    \n",
    "    for i in range(epochs):         \n",
    "        dx = df(x)        \n",
    "        # v表示x要改變的幅度        \n",
    "        v = - dx * lr        \n",
    "        x += v        \n",
    "        xs[i+1] = x    \n",
    "    return xs\n",
    "\n",
    "# Main\n",
    "# 起始權重\n",
    "x_start = -5 \n",
    "# 執行週期數\n",
    "epochs = 20\n",
    "# 學習率   \n",
    "lr = -0.03\n",
    "# 梯度下降法 \n",
    "# *** Function 可以直接當參數傳遞 ***\n",
    "x = GD(x_start, dfunc, epochs, lr=lr) \n",
    "print (x)\n",
    "# 輸出：[-5.     -2.     -0.8    -0.32   -0.128  -0.0512]\n",
    "\n",
    "color = 'r'    \n",
    "#plt.plot(line_x, line_y, c='b')    \n",
    "from numpy import arange\n",
    "t = arange(-6.0, 6.0, 0.01)\n",
    "plt.plot(t, func(t), c='b')\n",
    "plt.plot(x, func(x), c=color, label='lr={}'.format(lr))    \n",
    "plt.scatter(x, func(x), c=color, )    \n",
    "plt.legend()\n",
    "\n",
    "plt.show()"
   ]
  },
  {
   "cell_type": "markdown",
   "metadata": {},
   "source": [
    "## Lab2\n",
    "目標函數: $2x^4-3x^2+2x-20$\n",
    "\n",
    "結果: 學習率1r應在0.007以下"
   ]
  },
  {
   "cell_type": "code",
   "execution_count": 3,
   "metadata": {},
   "outputs": [
    {
     "name": "stdout",
     "output_type": "stream",
     "text": [
      "[5.         3.056      2.63202561 2.36787372 2.17986811 2.0362929\n",
      " 1.92163296 1.82715716 1.74748352 1.67907271 1.61948103 1.56695571\n",
      " 1.52020038 1.47823163 1.44028744 1.40576653 1.37418697 1.34515721\n",
      " 1.31835522 1.29351339 1.27040712]\n"
     ]
    },
    {
     "data": {
      "image/png": "[encoded data removed]",
      "text/plain": [
       "<Figure size 432x288 with 1 Axes>"
      ]
     },
     "metadata": {
      "filenames": {
       "image/png": "C:\\AI\\Jupyter_Book\\bin\\_build\\jupyter_execute\\梯度下降_5_1.png"
      },
      "needs_background": "light"
     },
     "output_type": "display_data"
    }
   ],
   "source": [
    "import numpy as np\n",
    "from sympy import *\n",
    "import matplotlib.pyplot as plt\n",
    "\n",
    "a = Symbol('a')\n",
    "fa = 2*a**4 - 3*a**2 + 2*a -20\n",
    " \n",
    "# 目標函數\n",
    "def func(x): \n",
    "    f = lambdify(a, fa)\n",
    "    return f(x)\n",
    "\n",
    "# 目標函數一階導數:\n",
    "def dfunc(x):\n",
    "    fprime = fa.diff(a)\n",
    "    df = lambdify(a, fprime)\n",
    "    return df(x)\n",
    "\n",
    "def GD(x_start, df, epochs, lr):    \n",
    "    \"\"\"  梯度下降法。給定起始點與目標函數的一階導函數，求在epochs次反覆運算中x的更新值\n",
    "        :param x_start: x的起始點    \n",
    "        :param df: 目標函數的一階導函數    \n",
    "        :param epochs: 反覆運算週期    \n",
    "        :param lr: 學習率    \n",
    "        :return: x在每次反覆運算後的位置（包括起始點），長度為epochs+1    \n",
    "     \"\"\"    \n",
    "    xs = np.zeros(epochs+1)    \n",
    "    x = x_start    \n",
    "    xs[0] = x    \n",
    "    for i in range(epochs):         \n",
    "        dx = df(x)        \n",
    "        # v表示x要改變的幅度        \n",
    "        v = - dx * lr        \n",
    "        x += v        \n",
    "        xs[i+1] = x    \n",
    "    return xs\n",
    "\n",
    "# Main\n",
    "# 起始權重\n",
    "x_start = 5 \n",
    "# 執行週期數\n",
    "epochs = 20\n",
    "# 學習率   \n",
    "lr = 0.002\n",
    "# 梯度下降法 \n",
    "# *** Function 可以直接當參數傳遞 ***\n",
    "x = GD(x_start, dfunc, epochs, lr=lr) \n",
    "print (x)\n",
    "# 輸出：[-5.     -2.     -0.8    -0.32   -0.128  -0.0512]\n",
    "\n",
    "color = 'r'    \n",
    "#plt.plot(line_x, line_y, c='b')    \n",
    "from numpy import arange\n",
    "t = arange(-6.0, 6.0, 0.01)\n",
    "plt.plot(t, func(t), c='b')\n",
    "plt.plot(x, func(x), c=color, label='lr={}'.format(lr))    \n",
    "plt.scatter(x, func(x), c=color, )    \n",
    "plt.legend()\n",
    "\n",
    "plt.show()"
   ]
  },
  {
   "cell_type": "markdown",
   "metadata": {},
   "source": [
    "## Lab3\n",
    "目標函數: $sin(x)E^(-0.1(x-0.6)^2)$\n",
    "\n",
    "結果: x_start需要在0~-3間才有辦法找到最小值，在其他地方會找到單位最大或最小值"
   ]
  },
  {
   "cell_type": "code",
   "execution_count": 4,
   "metadata": {},
   "outputs": [
    {
     "name": "stdout",
     "output_type": "stream",
     "text": [
      "[-3.         -2.88052489 -2.74404846 -2.58965322 -2.41813948 -2.23329082\n",
      " -2.04296352 -1.85884167 -1.69373142 -1.55713829 -1.45221605 -1.3762816\n",
      " -1.32363329 -1.28816379 -1.26470577 -1.24937247 -1.23942375 -1.23299886\n",
      " -1.22886193 -1.22620322 -1.22449659]\n"
     ]
    },
    {
     "data": {
      "image/png": "[encoded data removed]",
      "text/plain": [
       "<Figure size 432x288 with 1 Axes>"
      ]
     },
     "metadata": {
      "filenames": {
       "image/png": "C:\\AI\\Jupyter_Book\\bin\\_build\\jupyter_execute\\梯度下降_7_1.png"
      },
      "needs_background": "light"
     },
     "output_type": "display_data"
    }
   ],
   "source": [
    "import numpy as np\n",
    "from sympy import *\n",
    "import matplotlib.pyplot as plt\n",
    "\n",
    "a = Symbol('a')\n",
    "fa = sin(a)*E**(-0.1*(a-0.6)**2)\n",
    " \n",
    "# 目標函數\n",
    "def func(x): \n",
    "    f = lambdify(a, fa)\n",
    "    return f(x)\n",
    "\n",
    "# 目標函數一階導數:\n",
    "def dfunc(x):\n",
    "    fprime = fa.diff(a)\n",
    "    df = lambdify(a, fprime)\n",
    "    return df(x)\n",
    "\n",
    "def GD(x_start, df, epochs, lr):    \n",
    "    \"\"\"  梯度下降法。給定起始點與目標函數的一階導函數，求在epochs次反覆運算中x的更新值\n",
    "        :param x_start: x的起始點    \n",
    "        :param df: 目標函數的一階導函數    \n",
    "        :param epochs: 反覆運算週期    \n",
    "        :param lr: 學習率    \n",
    "        :return: x在每次反覆運算後的位置（包括起始點），長度為epochs+1    \n",
    "     \"\"\"    \n",
    "    xs = np.zeros(epochs+1)    \n",
    "    x = x_start    \n",
    "    xs[0] = x    \n",
    "    for i in range(epochs):         \n",
    "        dx = df(x)        \n",
    "        # v表示x要改變的幅度        \n",
    "        v = - dx * lr        \n",
    "        x += v        \n",
    "        xs[i+1] = x    \n",
    "    return xs\n",
    "\n",
    "# Main\n",
    "# 起始權重\n",
    "x_start = -3 \n",
    "# 執行週期數\n",
    "epochs = 20\n",
    "# 學習率   \n",
    "lr = 0.4\n",
    "# 梯度下降法 \n",
    "# *** Function 可以直接當參數傳遞 ***\n",
    "x = GD(x_start, dfunc, epochs, lr=lr) \n",
    "print (x)\n",
    "# 輸出：[-5.     -2.     -0.8    -0.32   -0.128  -0.0512]\n",
    "\n",
    "color = 'r'    \n",
    "#plt.plot(line_x, line_y, c='b')    \n",
    "from numpy import arange\n",
    "t = arange(-6.0, 6.0, 0.01)\n",
    "plt.plot(t, func(t), c='b')\n",
    "plt.plot(x, func(x), c=color, label='lr={}'.format(lr))    \n",
    "plt.scatter(x, func(x), c=color, )    \n",
    "plt.legend()\n",
    "\n",
    "plt.show()"
   ]
  },
  {
   "cell_type": "code",
   "execution_count": null,
   "metadata": {},
   "outputs": [],
   "source": []
  }
 ],
 "metadata": {
  "kernelspec": {
   "display_name": "Python 3",
   "language": "python",
   "name": "python3"
  },
  "language_info": {
   "codemirror_mode": {
    "name": "ipython",
    "version": 3
   },
   "file_extension": ".py",
   "mimetype": "text/x-python",
   "name": "python",
   "nbconvert_exporter": "python",
   "pygments_lexer": "ipython3",
   "version": "3.8.3"
  }
 },
 "nbformat": 4,
 "nbformat_minor": 4
}