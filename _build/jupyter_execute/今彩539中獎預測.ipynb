{
 "cells": [
  {
   "cell_type": "markdown",
   "metadata": {},
   "source": [
    "# 今彩539 中獎預測\n",
    "玩法:在1-39數字中，取5個數字，取出不放回\n",
    "\n",
    "中獎:<br>\n",
    "    頭獎 -> 中5個數字<br>\n",
    "    二獎 -> 中4個數字<br>\n",
    "    三獎 -> 中3個數字<br>\n",
    "    四獎 -> 中2個數字<br>\n",
    "    \n",
    "\n",
    "## 題目1: 計算各獎中獎機率，並繪製直方圖"
   ]
  },
  {
   "cell_type": "code",
   "execution_count": 62,
   "metadata": {},
   "outputs": [
    {
     "name": "stdout",
     "output_type": "stream",
     "text": [
      "Jackpot機率= 0.00017%\n",
      "Second prize機率= 0.02953%\n",
      "Third prize機率= 0.97437%\n",
      "Forth prize機率= 10.39327%\n"
     ]
    },
    {
     "data": {
      "image/png": "[encoded data removed]",
      "text/plain": [
       "<Figure size 432x288 with 1 Axes>"
      ]
     },
     "metadata": {
      "filenames": {
       "image/png": "C:\\AI\\Jupyter_Book\\bin\\_build\\jupyter_execute\\今彩539中獎預測_1_1.png"
      },
      "needs_background": "light"
     },
     "output_type": "display_data"
    }
   ],
   "source": [
    "%matplotlib inline\n",
    "from scipy import special as sps\n",
    "from matplotlib import pyplot as plt\n",
    "import numpy as np\n",
    "\n",
    "allNums = 39 #39數字中\n",
    "trials = 5  #取5個數字\n",
    "nonTrials = allNums - trials\n",
    "\n",
    "possibilities = sps.comb(allNums, trials, exact=True) #樣本空間為無順序之組合事件，計算式為C(39,5)\n",
    "'''\n",
    "#嘗試計算頭獎與貳獎\n",
    "n1 = sps.comb(trials, trials, exact=True)*sps.comb(nonTrials, 0, exact=True) # 事件為相依事件，計算式為: C(5,5)*C(34,0)\n",
    "p1 = n1/possibilities # 事件機率 = 事件/樣本空間 \n",
    "print(p1)\n",
    "\n",
    "n2 = sps.comb(trials, trials-1, exact=True)*sps.comb(nonTrials, 1, exact=True) # 事件: C(5,4)*C(34,1)\n",
    "p2 = n2/possibilities\n",
    "print(p2)\n",
    "'''\n",
    "\n",
    "#數據放入串列\n",
    "x = np.array(range(0, trials-1))\n",
    "#X軸為獎項\n",
    "xAxil = [\"Jackpot\", \"Second prize\", \"Third prize\", \"Forth prize\"]\n",
    "#y軸:機率\n",
    "p = np.array([sps.comb(trials, trials-i, exact=True)*sps.comb(nonTrials, i, exact=True)/possibilities for i in x])\n",
    "\n",
    "#列印\n",
    "for i in range(0, len(p)):\n",
    "    print('{}機率= {:.5f}%'.format(xAxil[i], p[i]*100))\n",
    "    \n",
    "   \n",
    "# Set up the graph\n",
    "plt.xlabel('Successes')\n",
    "plt.ylabel('Probability')\n",
    "plt.bar(xAxil, p)\n",
    "plt.show()\n"
   ]
  },
  {
   "cell_type": "markdown",
   "metadata": {},
   "source": [
    "## 題目2: 計算報酬率\n",
    "    每注平均中獎金額\n",
    "    報酬率 = (每注平均中獎金額-每注下注金額) /每注下注金額\n",
    "\n",
    "\n",
    "每注50元<br>\n",
    "頭獎 -> 8000000元<br>\n",
    "二獎 -> 200000元<br>\n",
    "三獎 -> 300元<br>\n",
    "四獎 -> 50元"
   ]
  },
  {
   "cell_type": "code",
   "execution_count": 78,
   "metadata": {},
   "outputs": [
    {
     "name": "stdout",
     "output_type": "stream",
     "text": [
      "每注平均中獎金額= 27.9\n",
      "期望值= -22.1\n",
      "報酬率= -44.16%\n"
     ]
    }
   ],
   "source": [
    "#計算每注平均中獎金額 total\n",
    "m = np.array([p[0]*8000000, p[1]*20000, p[2]*300, p[3]*50]) #各獎項*獎金\n",
    "total = 0  #加總\n",
    "for i in range(0, len(m)):\n",
    "    #print(m[i])\n",
    "    total += m[i]    \n",
    "#print(total)\n",
    "\n",
    "expectedValue = total - 50 #期望值\n",
    "rateOfReturn = expectedValue / 50 #報酬率\n",
    "\n",
    "print('每注平均中獎金額= {:.1f}'.format(total))\n",
    "print('期望值= {:.1f}'.format(expectedValue))\n",
    "print('報酬率= {:.2f}%'.format(rateOfReturn*100))\n"
   ]
  },
  {
   "cell_type": "markdown",
   "metadata": {},
   "source": [
    "## 題目3 利用Math進行一獎機率運算"
   ]
  },
  {
   "cell_type": "code",
   "execution_count": 4,
   "metadata": {},
   "outputs": [
    {
     "name": "stdout",
     "output_type": "stream",
     "text": [
      "一獎機率:0.000174%\n"
     ]
    }
   ],
   "source": [
    "import math\n",
    "\n",
    "allNums = 39 #39數字中\n",
    "trials = 5  #取5個數字\n",
    "\n",
    "#排序(放回)\n",
    "def nCr_perm(n,k):\n",
    "\tf = math.factorial\n",
    "\treturn f(n)/f(n-k)\n",
    "\n",
    "#組合(不放回)\n",
    "def nCr(n,k):\n",
    "\tf = math.factorial\n",
    "\treturn f(n)/(f(k)*f(n-k))\n",
    "\n",
    "# 樣本空間個數\n",
    "nCr(allNums, trials)\n",
    "\n",
    "#一獎數目\n",
    "nCr(5,5)*nCr(34,0)\n",
    "\n",
    "#一獎機率\n",
    "p1 = nCr(5,5)*nCr(34,0)/nCr(allNums, trials)\n",
    "print('一獎機率:{:2f}%'.format(p1*100))"
   ]
  }
 ],
 "metadata": {
  "kernelspec": {
   "display_name": "Python 3",
   "language": "python",
   "name": "python3"
  },
  "language_info": {
   "codemirror_mode": {
    "name": "ipython",
    "version": 3
   },
   "file_extension": ".py",
   "mimetype": "text/x-python",
   "name": "python",
   "nbconvert_exporter": "python",
   "pygments_lexer": "ipython3",
   "version": "3.8.3"
  }
 },
 "nbformat": 4,
 "nbformat_minor": 4
}