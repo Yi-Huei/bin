{
 "cells": [
  {
   "cell_type": "markdown",
   "metadata": {},
   "source": [
    "# Kmeans++尋找其始點\n",
    "如果質心初始選擇不當，會導致收斂變慢，Kmeans++改良此缺點，  \n",
    "先挑選各自遠離的質心，在使用Kmeans演算法求解。  \n",
    "\n",
    "作法:  \n",
    "1. 無論分為幾群，先隨機選一點質心  \n",
    "2. 計算每一點($x^{(i)}$)到該質心(M)距離  \n",
    "3. 利用公式，機率分配法找到下一個質心，機率分配公式為:  \n",
    "$\\frac{d(\\mu^{(p)} , M)^2}{\\sum_i d(x^{(i)},M)^2}$  \n",
    "下一個質心為$\\mu^{(p)}$\n",
    "\n",
    "4. 重複2、3步驟到下一質心被找到。"
   ]
  },
  {
   "cell_type": "code",
   "execution_count": null,
   "metadata": {},
   "outputs": [],
   "source": []
  }
 ],
 "metadata": {
  "kernelspec": {
   "display_name": "Python 3",
   "language": "python",
   "name": "python3"
  },
  "language_info": {
   "codemirror_mode": {
    "name": "ipython",
    "version": 3
   },
   "file_extension": ".py",
   "mimetype": "text/x-python",
   "name": "python",
   "nbconvert_exporter": "python",
   "pygments_lexer": "ipython3",
   "version": "3.8.3"
  }
 },
 "nbformat": 4,
 "nbformat_minor": 4
}