{
 "cells": [
  {
   "cell_type": "markdown",
   "metadata": {},
   "source": [
    "# Kmeans\n",
    "屬於EM(Expectation Maximization)演算法:  \n",
    "- E: 期望值最大化。每一次求取期望值(平均數、質心)\n",
    "- M: 依最大可能性(點對質心的距離)歸類樣本\n",
    "- 持續循環。\n",
    "\n",
    "\n",
    "作法:  \n",
    "1. 選擇分成K類，並隨機取K個點作為集群中心  \n",
    "2. 每一點分到最近的集群中心  \n",
    "3. 重新計算各組集群中心，使用平均數\n",
    "4. 重複2. 3.動作直到集群不變"
   ]
  },
  {
   "cell_type": "markdown",
   "metadata": {},
   "source": [
    "## 步驟一:產生亂數資料\n",
    "[make_blobs參考網站](https://scikit-learn.org/stable/modules/generated/sklearn.datasets.make_blobs.html)"
   ]
  },
  {
   "cell_type": "code",
   "execution_count": 1,
   "metadata": {},
   "outputs": [],
   "source": [
    "import matplotlib.pyplot as plt\n",
    "import seaborn as sns; sns.set()  # for plot styling\n",
    "import numpy as np"
   ]
  },
  {
   "cell_type": "code",
   "execution_count": 2,
   "metadata": {},
   "outputs": [
    {
     "name": "stderr",
     "output_type": "stream",
     "text": [
      "C:\\Anacoda3\\lib\\site-packages\\sklearn\\utils\\deprecation.py:143: FutureWarning: The sklearn.datasets.samples_generator module is  deprecated in version 0.22 and will be removed in version 0.24. The corresponding classes / functions should instead be imported from sklearn.datasets. Anything that cannot be imported from sklearn.datasets is now part of the private API.\n",
      "  warnings.warn(message, FutureWarning)\n"
     ]
    },
    {
     "data": {
      "image/png": "[encoded data removed]",
      "text/plain": [
       "<Figure size 432x288 with 1 Axes>"
      ]
     },
     "metadata": {
      "filenames": {
       "image/png": "C:\\AI\\Jupyter_Book\\bin\\_build\\jupyter_execute\\Kmeans_3_1.png"
      }
     },
     "output_type": "display_data"
    }
   ],
   "source": [
    "from sklearn.datasets.samples_generator import make_blobs\n",
    "# make_blobs產生隨機資料\n",
    "X, y_true = make_blobs(n_samples=300, centers=4,  # 隨機300筆資料，分4群\n",
    "                       cluster_std=0.60, random_state=0)  #標準差0.6，亂數種子0\n",
    "# X預設產生2個變數，若要2個以上，調整n_feature=參數\n",
    "plt.scatter(X[:, 0], X[:, 1], s=50);"
   ]
  },
  {
   "cell_type": "code",
   "execution_count": 3,
   "metadata": {},
   "outputs": [
    {
     "data": {
      "text/plain": [
       "((300, 2), (300,))"
      ]
     },
     "execution_count": 3,
     "metadata": {},
     "output_type": "execute_result"
    }
   ],
   "source": [
    "X.shape, y_true.shape"
   ]
  },
  {
   "cell_type": "markdown",
   "metadata": {},
   "source": [
    "300筆資料，2個變數"
   ]
  },
  {
   "cell_type": "markdown",
   "metadata": {},
   "source": [
    "## 步驟二:使用Kmeans進行分類\n",
    "[KMeans參考網站](https://scikit-learn.org/stable/modules/generated/sklearn.cluster.KMeans.html)\n",
    "\n",
    "非監督式學習一般不需要做資料切割，因為無標記(沒有y)，所以即使分出測試資料，也無法計算分數  \n",
    "\n",
    "重要參數說明:\n",
    "- n_clusters: 分成幾群  \n",
    "- init: 起始值  \n",
    "- max_iter: EM週期數  \n",
    "- tol: 容忍度，當變動小於...時，停止。預設值為$10^{-4}$  \n",
    "- precompute_distances: 距離函數"
   ]
  },
  {
   "cell_type": "code",
   "execution_count": 4,
   "metadata": {},
   "outputs": [],
   "source": [
    "from sklearn.cluster import KMeans\n",
    "kmeans = KMeans(n_clusters=4) #必填，分成4群。預設8群\n",
    "kmeans.fit(X) #訓練\n",
    "y_kmeans = kmeans.predict(X) #預測"
   ]
  },
  {
   "cell_type": "code",
   "execution_count": 5,
   "metadata": {},
   "outputs": [
    {
     "data": {
      "text/plain": [
       "(array([1, 3, 0, 3, 1, 1, 2, 0, 3, 3, 2, 3, 0, 3, 1, 0, 0, 1, 2, 2, 1, 1,\n",
       "        0, 2, 2, 0, 1, 0, 2, 0, 3, 3, 0, 3, 3, 3, 3, 3, 2, 1, 0, 2, 0, 0,\n",
       "        2, 2, 3, 2, 3, 1, 2, 1, 3, 1, 1, 2, 3, 2, 3, 1, 3, 0, 3, 2, 2, 2,\n",
       "        3, 1, 3, 2, 0, 2, 3, 2, 2, 3, 2, 0, 1, 3, 1, 0, 1, 1, 3, 0, 1, 0,\n",
       "        3, 3, 0, 1, 3, 2, 2, 0, 1, 1, 0, 2, 3, 1, 3, 1, 0, 1, 1, 0, 3, 0,\n",
       "        2, 2, 1, 3, 1, 0, 3, 1, 1, 0, 2, 1, 2, 1, 1, 1, 1, 2, 1, 2, 3, 2,\n",
       "        2, 1, 3, 2, 2, 3, 0, 3, 3, 2, 0, 2, 0, 2, 3, 0, 3, 3, 3, 0, 3, 0,\n",
       "        1, 2, 3, 2, 1, 0, 3, 0, 0, 1, 0, 2, 2, 0, 1, 0, 0, 3, 1, 0, 2, 3,\n",
       "        1, 1, 0, 2, 1, 0, 2, 2, 0, 0, 0, 0, 1, 3, 0, 2, 0, 0, 2, 2, 2, 0,\n",
       "        2, 3, 0, 2, 1, 2, 0, 3, 2, 3, 0, 3, 0, 2, 0, 0, 3, 2, 2, 1, 1, 0,\n",
       "        3, 1, 1, 2, 1, 2, 0, 3, 3, 0, 0, 3, 0, 1, 2, 0, 1, 2, 3, 2, 1, 0,\n",
       "        1, 3, 3, 3, 3, 2, 2, 3, 0, 2, 1, 0, 2, 2, 2, 1, 1, 3, 0, 0, 2, 1,\n",
       "        3, 2, 0, 3, 0, 1, 1, 2, 2, 0, 1, 1, 1, 0, 3, 3, 1, 1, 0, 1, 1, 1,\n",
       "        3, 2, 3, 0, 1, 1, 3, 3, 3, 1, 1, 0, 3, 2]),\n",
       " array([2, 3, 1, 3, 2, 2, 0, 1, 3, 3, 0, 3, 1, 3, 2, 1, 1, 2, 0, 0, 2, 2,\n",
       "        1, 0, 0, 1, 2, 1, 0, 1, 3, 3, 1, 3, 3, 3, 3, 3, 0, 2, 1, 0, 1, 1,\n",
       "        0, 0, 3, 0, 3, 2, 0, 2, 3, 2, 2, 0, 3, 0, 3, 2, 3, 1, 3, 0, 0, 0,\n",
       "        3, 2, 3, 0, 1, 0, 3, 0, 0, 3, 0, 1, 2, 3, 2, 1, 2, 2, 3, 1, 2, 1,\n",
       "        3, 3, 1, 2, 3, 0, 0, 1, 2, 2, 1, 0, 3, 2, 3, 2, 1, 2, 2, 1, 3, 1,\n",
       "        0, 0, 2, 3, 2, 1, 3, 2, 2, 1, 0, 2, 0, 2, 2, 2, 2, 0, 2, 0, 3, 0,\n",
       "        0, 2, 3, 0, 0, 3, 1, 3, 3, 0, 1, 0, 1, 0, 3, 1, 3, 3, 3, 1, 3, 1,\n",
       "        2, 0, 3, 0, 2, 1, 3, 1, 1, 2, 1, 0, 0, 1, 2, 1, 1, 3, 2, 1, 0, 3,\n",
       "        2, 2, 1, 0, 2, 1, 0, 0, 1, 1, 1, 1, 2, 3, 1, 0, 1, 1, 0, 0, 0, 1,\n",
       "        0, 3, 1, 0, 2, 0, 1, 3, 0, 3, 1, 3, 1, 0, 1, 1, 3, 0, 0, 2, 2, 1,\n",
       "        3, 2, 2, 0, 2, 0, 1, 3, 3, 1, 1, 3, 1, 2, 0, 1, 2, 0, 3, 0, 2, 1,\n",
       "        2, 3, 3, 3, 3, 0, 0, 3, 1, 0, 2, 1, 0, 0, 0, 2, 2, 3, 1, 1, 0, 2,\n",
       "        3, 0, 1, 3, 1, 2, 2, 0, 0, 1, 2, 2, 2, 1, 3, 3, 2, 2, 1, 2, 2, 2,\n",
       "        3, 0, 3, 1, 2, 2, 3, 3, 3, 2, 2, 1, 3, 0]))"
      ]
     },
     "execution_count": 5,
     "metadata": {},
     "output_type": "execute_result"
    }
   ],
   "source": [
    "# 查看真實值與預測值\n",
    "y_true, y_kmeans"
   ]
  },
  {
   "cell_type": "code",
   "execution_count": 6,
   "metadata": {},
   "outputs": [
    {
     "data": {
      "text/plain": [
       "75"
      ]
     },
     "execution_count": 6,
     "metadata": {},
     "output_type": "execute_result"
    }
   ],
   "source": [
    "# 查看兩組相同答案次數\n",
    "len(y_true[y_true == y_kmeans])"
   ]
  },
  {
   "cell_type": "markdown",
   "metadata": {},
   "source": [
    "兩組答案全部\"沒有\"符合  \n",
    "原因為預測資料y_kmeans並未依y_true進行編碼。  \n",
    "本例之狀況可能為y_true編號1，y_kmeans為3。"
   ]
  },
  {
   "cell_type": "markdown",
   "metadata": {},
   "source": [
    "## 步驟三、查看兩組分類情形"
   ]
  },
  {
   "cell_type": "markdown",
   "metadata": {},
   "source": [
    "#### 方法一"
   ]
  },
  {
   "cell_type": "code",
   "execution_count": 7,
   "metadata": {},
   "outputs": [
    {
     "name": "stdout",
     "output_type": "stream",
     "text": [
      "Int64Index([  0,   4,   5,  14,  17,  20,  21,  26,  39,  49,  51,  53,  54,\n",
      "             59,  67,  78,  80,  82,  83,  86,  91,  96,  97, 101, 103, 105,\n",
      "            106, 112, 114, 117, 118, 121, 123, 124, 125, 126, 128, 133, 154,\n",
      "            158, 163, 168, 172, 176, 177, 180, 188, 202, 217, 218, 221, 222,\n",
      "            224, 233, 236, 240, 242, 252, 257, 258, 263, 269, 270, 274, 275,\n",
      "            276, 280, 281, 283, 284, 285, 290, 291, 295, 296],\n",
      "           dtype='int64')\n"
     ]
    }
   ],
   "source": [
    "# 查詢y_true編碼為1之索引值\n",
    "import pandas as pd\n",
    "p=pd.Series(y_true)\n",
    "print(p[p == 1].index)"
   ]
  },
  {
   "cell_type": "code",
   "execution_count": 8,
   "metadata": {},
   "outputs": [
    {
     "name": "stdout",
     "output_type": "stream",
     "text": [
      "Int64Index([  1,   3,   8,   9,  11,  13,  30,  31,  33,  34,  35,  36,  37,\n",
      "             46,  48,  52,  56,  58,  60,  62,  66,  68,  72,  75,  79,  84,\n",
      "             88,  89,  92, 100, 102, 108, 113, 116, 130, 134, 137, 139, 140,\n",
      "            146, 148, 149, 150, 152, 156, 160, 171, 175, 189, 199, 205, 207,\n",
      "            209, 214, 220, 227, 228, 231, 238, 243, 244, 245, 246, 249, 259,\n",
      "            264, 267, 278, 279, 286, 288, 292, 293, 294, 298],\n",
      "           dtype='int64')\n"
     ]
    }
   ],
   "source": [
    "# 查詢y_kmeans編碼為3之索引值\n",
    "p2=pd.Series(y_kmeans)\n",
    "#print(p2)\n",
    "print(p2[p2 == 3].index)"
   ]
  },
  {
   "cell_type": "code",
   "execution_count": 9,
   "metadata": {},
   "outputs": [
    {
     "data": {
      "text/plain": [
       "False"
      ]
     },
     "execution_count": 9,
     "metadata": {},
     "output_type": "execute_result"
    }
   ],
   "source": [
    "# (y_true==1) == (y_kmeans==3) \n",
    "np.all(np.array(np.where(y_true==1))==np.array(np.where(y_kmeans==3)))"
   ]
  },
  {
   "cell_type": "markdown",
   "metadata": {},
   "source": [
    "y_true=1與y_kmeans=3之索引值完全相同"
   ]
  },
  {
   "cell_type": "markdown",
   "metadata": {},
   "source": [
    "#### 方法二"
   ]
  },
  {
   "cell_type": "code",
   "execution_count": 10,
   "metadata": {},
   "outputs": [
    {
     "name": "stdout",
     "output_type": "stream",
     "text": [
      "[0, 4, 5, 14, 17, 20, 21, 26, 39, 49, 51, 53, 54, 59, 67, 78, 80, 82, 83, 86, 91, 96, 97, 101, 103, 105, 106, 112, 114, 117, 118, 121, 123, 124, 125, 126, 128, 133, 154, 158, 163, 168, 172, 176, 177, 180, 188, 202, 217, 218, 221, 222, 224, 233, 236, 240, 242, 252, 257, 258, 263, 269, 270, 274, 275, 276, 280, 281, 283, 284, 285, 290, 291, 295, 296]\n"
     ]
    }
   ],
   "source": [
    "print([i for i, j in enumerate(y_true) if j==1])"
   ]
  },
  {
   "cell_type": "code",
   "execution_count": 11,
   "metadata": {},
   "outputs": [
    {
     "name": "stdout",
     "output_type": "stream",
     "text": [
      "[1, 3, 8, 9, 11, 13, 30, 31, 33, 34, 35, 36, 37, 46, 48, 52, 56, 58, 60, 62, 66, 68, 72, 75, 79, 84, 88, 89, 92, 100, 102, 108, 113, 116, 130, 134, 137, 139, 140, 146, 148, 149, 150, 152, 156, 160, 171, 175, 189, 199, 205, 207, 209, 214, 220, 227, 228, 231, 238, 243, 244, 245, 246, 249, 259, 264, 267, 278, 279, 286, 288, 292, 293, 294, 298]\n"
     ]
    }
   ],
   "source": [
    "print([i for i, j in enumerate(y_kmeans) if j==3])"
   ]
  },
  {
   "cell_type": "code",
   "execution_count": 12,
   "metadata": {},
   "outputs": [
    {
     "data": {
      "text/plain": [
       "False"
      ]
     },
     "execution_count": 12,
     "metadata": {},
     "output_type": "execute_result"
    }
   ],
   "source": [
    "[i for i, j in enumerate(y_true) if j==1] == [i for i, j in enumerate(y_kmeans) if j==3]"
   ]
  },
  {
   "cell_type": "markdown",
   "metadata": {},
   "source": [
    "y_true=1與y_kmeans=3之索引值完全相同"
   ]
  },
  {
   "cell_type": "markdown",
   "metadata": {},
   "source": [
    "## 步驟四: 結果"
   ]
  },
  {
   "cell_type": "code",
   "execution_count": 13,
   "metadata": {},
   "outputs": [
    {
     "data": {
      "text/plain": [
       "array([[-1.58438467,  2.83081263],\n",
       "       [ 0.94973532,  4.41906906],\n",
       "       [ 1.98258281,  0.86771314],\n",
       "       [-1.37324398,  7.75368871]])"
      ]
     },
     "execution_count": 13,
     "metadata": {},
     "output_type": "execute_result"
    }
   ],
   "source": [
    "# 4個質心(x,y)\n",
    "kmeans.cluster_centers_"
   ]
  },
  {
   "cell_type": "code",
   "execution_count": 14,
   "metadata": {},
   "outputs": [
    {
     "data": {
      "image/png": "[encoded data removed]",
      "text/plain": [
       "<Figure size 432x288 with 1 Axes>"
      ]
     },
     "metadata": {
      "filenames": {
       "image/png": "C:\\AI\\Jupyter_Book\\bin\\_build\\jupyter_execute\\Kmeans_24_0.png"
      }
     },
     "output_type": "display_data"
    }
   ],
   "source": [
    "# 繪圖: 散佈圖\n",
    "plt.scatter(X[:, 0], X[:, 1], c=y_kmeans, s=50, cmap='viridis')\n",
    "\n",
    "# 質心\n",
    "centers = kmeans.cluster_centers_\n",
    "plt.scatter(centers[:, 0], centers[:, 1], c='red', s=200, alpha=0.5);"
   ]
  },
  {
   "cell_type": "code",
   "execution_count": 15,
   "metadata": {},
   "outputs": [
    {
     "data": {
      "text/plain": [
       "212.00599621083472"
      ]
     },
     "execution_count": 15,
     "metadata": {},
     "output_type": "execute_result"
    }
   ],
   "source": [
    "# 誤差平方和: 每個點到質心距離之和，越小越好\n",
    "kmeans.inertia_"
   ]
  },
  {
   "cell_type": "code",
   "execution_count": 16,
   "metadata": {},
   "outputs": [
    {
     "data": {
      "text/plain": [
       "3"
      ]
     },
     "execution_count": 16,
     "metadata": {},
     "output_type": "execute_result"
    }
   ],
   "source": [
    "# 循環次數\n",
    "kmeans.n_iter_"
   ]
  },
  {
   "cell_type": "code",
   "execution_count": 17,
   "metadata": {},
   "outputs": [
    {
     "data": {
      "text/plain": [
       "array([2, 3, 1, 3, 2, 2, 0, 1, 3, 3, 0, 3, 1, 3, 2, 1, 1, 2, 0, 0, 2, 2,\n",
       "       1, 0, 0, 1, 2, 1, 0, 1, 3, 3, 1, 3, 3, 3, 3, 3, 0, 2, 1, 0, 1, 1,\n",
       "       0, 0, 3, 0, 3, 2, 0, 2, 3, 2, 2, 0, 3, 0, 3, 2, 3, 1, 3, 0, 0, 0,\n",
       "       3, 2, 3, 0, 1, 0, 3, 0, 0, 3, 0, 1, 2, 3, 2, 1, 2, 2, 3, 1, 2, 1,\n",
       "       3, 3, 1, 2, 3, 0, 0, 1, 2, 2, 1, 0, 3, 2, 3, 2, 1, 2, 2, 1, 3, 1,\n",
       "       0, 0, 2, 3, 2, 1, 3, 2, 2, 1, 0, 2, 0, 2, 2, 2, 2, 0, 2, 0, 3, 0,\n",
       "       0, 2, 3, 0, 0, 3, 1, 3, 3, 0, 1, 0, 1, 0, 3, 1, 3, 3, 3, 1, 3, 1,\n",
       "       2, 0, 3, 0, 2, 1, 3, 1, 1, 2, 1, 0, 0, 1, 2, 1, 1, 3, 2, 1, 0, 3,\n",
       "       2, 2, 1, 0, 2, 1, 0, 0, 1, 1, 1, 1, 2, 3, 1, 0, 1, 1, 0, 0, 0, 1,\n",
       "       0, 3, 1, 0, 2, 0, 1, 3, 0, 3, 1, 3, 1, 0, 1, 1, 3, 0, 0, 2, 2, 1,\n",
       "       3, 2, 2, 0, 2, 0, 1, 3, 3, 1, 1, 3, 1, 2, 0, 1, 2, 0, 3, 0, 2, 1,\n",
       "       2, 3, 3, 3, 3, 0, 0, 3, 1, 0, 2, 1, 0, 0, 0, 2, 2, 3, 1, 1, 0, 2,\n",
       "       3, 0, 1, 3, 1, 2, 2, 0, 0, 1, 2, 2, 2, 1, 3, 3, 2, 2, 1, 2, 2, 2,\n",
       "       3, 0, 3, 1, 2, 2, 3, 3, 3, 2, 2, 1, 3, 0])"
      ]
     },
     "execution_count": 17,
     "metadata": {},
     "output_type": "execute_result"
    }
   ],
   "source": [
    "# 訓練樣本結果分類\n",
    "kmeans.labels_"
   ]
  },
  {
   "cell_type": "markdown",
   "metadata": {},
   "source": [
    "Kmeans困難:  \n",
    "1. 起始點: 採kmeans++  \n",
    "2. 分成...群: elbow、Silhouette、\n",
    "\n",
    "接下來課程會進行說明"
   ]
  }
 ],
 "metadata": {
  "kernelspec": {
   "display_name": "Python 3",
   "language": "python",
   "name": "python3"
  },
  "language_info": {
   "codemirror_mode": {
    "name": "ipython",
    "version": 3
   },
   "file_extension": ".py",
   "mimetype": "text/x-python",
   "name": "python",
   "nbconvert_exporter": "python",
   "pygments_lexer": "ipython3",
   "version": "3.8.3"
  }
 },
 "nbformat": 4,
 "nbformat_minor": 4
}