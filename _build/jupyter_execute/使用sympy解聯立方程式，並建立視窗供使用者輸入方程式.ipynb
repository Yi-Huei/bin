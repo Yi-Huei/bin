{
 "cells": [
  {
   "cell_type": "markdown",
   "metadata": {},
   "source": [
    "# 使用sympy解聯立方程式，並建立視窗供使用者輸入方程式"
   ]
  },
  {
   "cell_type": "markdown",
   "metadata": {},
   "source": [
    "[測試方程式來源](http://www.math-exercises.com/equations-and-inequalities/linear-equations-and-inequalities)"
   ]
  },
  {
   "cell_type": "markdown",
   "metadata": {},
   "source": [
    "使用套件有tkinter、sympy，解說分別為  \n",
    "1. tkinter: 桌面應用程式（Desktop Application)，程式圖形化應用介面(GUI)，讓使用者透過圖形化界面與程式互動，[參考網址](https://blog.techbridge.cc/2019/09/21/how-to-use-python-tkinter-to-make-gui-app-tutorial/)  \n",
    "\n",
    "\n",
    "2. sympy:聯立方程式計算套件，使用前須先安裝，在CMD下鍵入pip install sympy"
   ]
  },
  {
   "cell_type": "code",
   "execution_count": 10,
   "metadata": {},
   "outputs": [
    {
     "name": "stdout",
     "output_type": "stream",
     "text": [
      "使用者輸入文字: ['10*x-1=15-6*x']\n"
     ]
    }
   ],
   "source": [
    "import tkinter as tk  #tkinter為一視窗介面函數\n",
    "from sympy.solvers import solve\n",
    "from sympy import symbols\n",
    "from sympy.core import sympify\n",
    "\n",
    "#自訂函數，取得使用者輸入公式，進行解析\n",
    "def calculate():\n",
    "    #取得輸入計算式\n",
    "    strCal = text.get(1.0, \"end\")\n",
    "    #以行分割字串\n",
    "    lines = strCal.splitlines()\n",
    "    print(\"使用者輸入文字:\",lines)\n",
    "    try:\n",
    "        #使用sympy計算\n",
    "        if len(lines) == 1:\n",
    "            #以等號分割左右\n",
    "            line0 = lines[0].split('=')\n",
    "            strEq0 = \"Eq(%s, %s)\" %(line0[0], line0[1]) #帶入變數\n",
    "            #print(strEq0)\n",
    "            #計算\n",
    "            strResult = solve(sympify(strEq0)) \n",
    "        elif len(lines) == 2:\n",
    "            line0 = lines[0].split('=')\n",
    "            strEq0 = \"Eq(%s, %s)\" %(line0[0], line0[1]) #帶入式一變數\n",
    "            line1 = lines[1].split('=')\n",
    "            strEq1 = \"Eq(%s, %s)\" %(line1[0], line1[1]) #帶入式二變數\n",
    "            #計算\n",
    "            strResult = solve([sympify(strEq0), \n",
    "                               sympify(strEq1)])\n",
    "        elif len(lines) == 3:\n",
    "            line0 = lines[0].split('=')\n",
    "            strEq0 = \"Eq(%s, %s)\" %(line0[0], line0[1]) #帶入式一變數\n",
    "            line1 = lines[1].split('=')\n",
    "            strEq1 = \"Eq(%s, %s)\" %(line1[0], line1[1]) #帶入式二變數\n",
    "            line2 = lines[2].split('=')\n",
    "            strEq2 = \"Eq(%s, %s)\" %(line2[0], line2[1]) #帶入式三變數\n",
    "            strResult = solve([sympify(strEq0), \n",
    "                               sympify(strEq1), \n",
    "                               sympify(strEq2)])\n",
    "        elif len(lines) == 4:\n",
    "            line0 = lines[0].split('=')\n",
    "            strEq0 = \"Eq(%s, %s)\" %(line0[0], line0[1]) #帶入式一變數\n",
    "            line1 = lines[1].split('=')\n",
    "            strEq1 = \"Eq(%s, %s)\" %(line1[0], line1[1]) #帶入式二變數\n",
    "            line2 = lines[2].split('=')\n",
    "            strEq2 = \"Eq(%s, %s)\" %(line2[0], line2[1]) #帶入式三變數\n",
    "            line3 = lines[3].split('=')\n",
    "            strEq3 = \"Eq(%s, %s)\" %(line3[0], line3[1]) #帶入式四變數\n",
    "            strResult = solve([sympify(strEq0), \n",
    "                               sympify(strEq1), \n",
    "                               sympify(strEq2),\n",
    "                               sympify(strEq3)])\n",
    "        else:\n",
    "            strResult = \"錯誤\"\n",
    "    except:\n",
    "        strResult = \"錯誤方程式\"\n",
    "    #顯示答案\n",
    "    strVar.set(strResult)\n",
    "\n",
    "#介面\n",
    "window = tk.Tk()\n",
    "window.title('Sympy解聯立方程式')\n",
    "window.geometry(\"300x300+250+150\")\n",
    "#第一行標示文字\n",
    "label = tk.Label(window,\n",
    "                text = '請輸入方程式，\\n2個式子以上請使用enter鍵換行，\\n可解1次~4次方程式',\n",
    "                font = ('Arial', 12),\n",
    "                width = 100, height = 3)\n",
    "label.pack()\n",
    "\n",
    "#第二行輸入方程式\n",
    "text = tk.Text(window,\n",
    "              width = 200, height = 5)\n",
    "text.pack()\n",
    "\n",
    "#第三行建立計算按鈕\n",
    "button = tk.Button(window, \n",
    "                   text = '計算', \n",
    "                   command = calculate)\n",
    "button.pack()\n",
    "\n",
    "#第四行顯示答案\n",
    "strVar = tk.StringVar()  #建立可更改Label之變數\n",
    "strVar.set(\"解答\")\n",
    "resultLab = tk.Label(window,\n",
    "                     textvariable = strVar,\n",
    "                     font = ('Arial', 12),\n",
    "                     width = 30, height = 2)\n",
    "resultLab.pack()\n",
    "\n",
    "window.mainloop()"
   ]
  },
  {
   "cell_type": "markdown",
   "metadata": {},
   "source": [
    "執行結果\n",
    "![](https://github.com/Yi-Huei/bin/blob/master/images/TK_solution.png?raw=true)"
   ]
  }
 ],
 "metadata": {
  "kernelspec": {
   "display_name": "Python 3",
   "language": "python",
   "name": "python3"
  },
  "language_info": {
   "codemirror_mode": {
    "name": "ipython",
    "version": 3
   },
   "file_extension": ".py",
   "mimetype": "text/x-python",
   "name": "python",
   "nbconvert_exporter": "python",
   "pygments_lexer": "ipython3",
   "version": "3.8.3"
  }
 },
 "nbformat": 4,
 "nbformat_minor": 4
}