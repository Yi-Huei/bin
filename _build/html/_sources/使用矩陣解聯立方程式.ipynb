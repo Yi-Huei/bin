{
 "cells": [
  {
   "cell_type": "markdown",
   "metadata": {},
   "source": [
    "# 使用Numpy矩陣解聯立方程式\n",
    "[方程式來源](http://www.math-exercises.com/equations-and-inequalities/systems-of-linear-equations-and-inequalities)\n",
    "\n",
    "本篇python的矩陣運算會使用到numpy\n",
    "\n",
    "例如:  \n",
    "3x+2y=10  \n",
    "1x+3y=8  \n",
    "     \n",
    "$A = \\begin{bmatrix}3 & 2\\\\1 &3 \\end{bmatrix}$  \n",
    "\n",
    "\n",
    "$B = \\begin{bmatrix} 10 \\\\ 8 \\end{bmatrix}$\n",
    "\n",
    "\n",
    "可寫成\n",
    "\n",
    "$A \\begin{bmatrix}x\\\\y\\end{bmatrix} = B$\n",
    "\n",
    "因此x和y矩陣為A的反矩陣內積B\n",
    "\n",
    "$\\begin{bmatrix}x\\\\y\\end{bmatrix} = A^{-1} . B$"
   ]
  },
  {
   "cell_type": "markdown",
   "metadata": {},
   "source": [
    "## 題目一"
   ]
  },
  {
   "cell_type": "code",
   "execution_count": 2,
   "metadata": {},
   "outputs": [
    {
     "name": "stdout",
     "output_type": "stream",
     "text": [
      "[[2.]\n",
      " [2.]]\n"
     ]
    }
   ],
   "source": [
    "# 3x+2y=10\n",
    "# 1x+3y=8\n",
    "import numpy as np\n",
    "\n",
    "A = np.array([[3,2],\n",
    "              [1,3]])\n",
    "\n",
    "B = np.array([10,8]).reshape(2, 1) #由形狀(1,2)矩陣轉為 (2,1)\n",
    "\n",
    "#A反矩陣: np.linalg.inv(A)\n",
    "print(np.linalg.inv(A).dot(B))"
   ]
  },
  {
   "cell_type": "markdown",
   "metadata": {},
   "source": [
    "解:x=2,y=2"
   ]
  },
  {
   "cell_type": "markdown",
   "metadata": {},
   "source": [
    "## 題目二:\n",
    "[方程式來源4a](http://www.math-exercises.com/equations-and-inequalities/systems-of-linear-equations-and-inequalities)  \n",
    "2a+2b-c+d=4  \n",
    "4a+3b-c+2d=6  \n",
    "8a+5b-3c+4d=12  \n",
    "3a+3b-2c+2d=6"
   ]
  },
  {
   "cell_type": "code",
   "execution_count": 4,
   "metadata": {},
   "outputs": [
    {
     "name": "stdout",
     "output_type": "stream",
     "text": [
      "[[ 1.]\n",
      " [ 1.]\n",
      " [-1.]\n",
      " [-1.]]\n"
     ]
    }
   ],
   "source": [
    "import numpy as np\n",
    "\n",
    "A = np.array([2,2,-1,1,4,3,-1,2,8,5,-3,4,3,3,-2,2]).reshape(4, -1)\n",
    "\n",
    "B = np.array([4,6,12,6]).reshape(4, 1)\n",
    "\n",
    "print(np.linalg.inv(A).dot(B))"
   ]
  },
  {
   "cell_type": "markdown",
   "metadata": {},
   "source": [
    "解:a=1,b=1,c=-1,d=-1"
   ]
  },
  {
   "cell_type": "markdown",
   "metadata": {},
   "source": [
    "## 題目三:\n",
    "[方程式來源4b](http://www.math-exercises.com/equations-and-inequalities/systems-of-linear-equations-and-inequalities)  \n",
    "-a+b-c+d=0  \n",
    "-2a+b+c-3d=0  \n",
    "a+2b-3c+d=0  \n",
    "2a+3b+4c-d=0"
   ]
  },
  {
   "cell_type": "code",
   "execution_count": 5,
   "metadata": {},
   "outputs": [
    {
     "name": "stdout",
     "output_type": "stream",
     "text": [
      "[[0.]\n",
      " [0.]\n",
      " [0.]\n",
      " [0.]]\n"
     ]
    }
   ],
   "source": [
    "import numpy as np\n",
    "\n",
    "A = np.array([-1,1,-1,1,-2,1,1,-3,1,2,-3,1,2,3,4,-1]).reshape(4, -1)\n",
    "\n",
    "B = np.array([0,0,0,0]).reshape(4, 1)\n",
    "\n",
    "print(np.linalg.inv(A).dot(B))"
   ]
  },
  {
   "cell_type": "markdown",
   "metadata": {},
   "source": [
    "## 請寫一個方法解答4a題目"
   ]
  },
  {
   "cell_type": "code",
   "execution_count": 19,
   "metadata": {},
   "outputs": [
    {
     "name": "stdout",
     "output_type": "stream",
     "text": [
      "[[ 1.]\n",
      " [ 1.]\n",
      " [-1.]\n",
      " [-1.]]\n"
     ]
    }
   ],
   "source": [
    "A = np.array([2,2,-1,1,4,3,-1,2,8,5,-3,4,3,3,-2,2])\n",
    "B = np.array([4,6,12,6])\n",
    "\n",
    "def my_solve(A, B):\n",
    "    A = A.reshape(len(B), -1)\n",
    "    B = B.reshape(len(B), 1)\n",
    "    print(np.linalg.inv(A).dot(B))\n",
    "\n",
    "my_solve(A, B)"
   ]
  }
 ],
 "metadata": {
  "kernelspec": {
   "display_name": "Python 3",
   "language": "python",
   "name": "python3"
  },
  "language_info": {
   "codemirror_mode": {
    "name": "ipython",
    "version": 3
   },
   "file_extension": ".py",
   "mimetype": "text/x-python",
   "name": "python",
   "nbconvert_exporter": "python",
   "pygments_lexer": "ipython3",
   "version": "3.8.3"
  }
 },
 "nbformat": 4,
 "nbformat_minor": 4
}
