{
 "cells": [
  {
   "cell_type": "markdown",
   "metadata": {},
   "source": [
    "# Sympy 與 Numpy\n",
    "[測試方程式來源](http://www.math-exercises.com/equations-and-inequalities/linear-equations-and-inequalities)"
   ]
  },
  {
   "cell_type": "markdown",
   "metadata": {},
   "source": [
    "### Sympy"
   ]
  },
  {
   "cell_type": "markdown",
   "metadata": {},
   "source": [
    "#### 題目1. 𝑥+16+25=0"
   ]
  },
  {
   "cell_type": "code",
   "execution_count": 2,
   "metadata": {},
   "outputs": [
    {
     "data": {
      "text/plain": [
       "[-41]"
      ]
     },
     "execution_count": 2,
     "metadata": {},
     "output_type": "execute_result"
    }
   ],
   "source": [
    "from sympy.solvers import solve  #載入sympy求解套件，需移項\n",
    "from sympy import Symbol\n",
    "x = Symbol('x')    #符號初始化與輸出設置，註解一\n",
    "solve(𝑥+16+25, x)"
   ]
  },
  {
   "cell_type": "markdown",
   "metadata": {},
   "source": [
    "註解一: 進行符號運算前，需先定義符號，如此sympy才能識別該符號 \n",
    "\n",
    "方法:  \n",
    "- 單個符號初始化: x = sympy.Symbol('x')  \n",
    "- 多個符號初始化: x,y = sympy.symbols(\"x y\")"
   ]
  },
  {
   "cell_type": "markdown",
   "metadata": {},
   "source": [
    "#### 題目2. 𝑥+16 = -25"
   ]
  },
  {
   "cell_type": "code",
   "execution_count": 3,
   "metadata": {},
   "outputs": [
    {
     "data": {
      "text/plain": [
       "[-41]"
      ]
     },
     "execution_count": 3,
     "metadata": {},
     "output_type": "execute_result"
    }
   ],
   "source": [
    "from sympy.core import sympify  #不移項寫法\n",
    "solve(sympify(\"Eq(𝑥+16, -25)\"))"
   ]
  },
  {
   "cell_type": "markdown",
   "metadata": {},
   "source": [
    "#### 題目3. 2a-(8a+1)-5(a+2) = 9"
   ]
  },
  {
   "cell_type": "code",
   "execution_count": 4,
   "metadata": {},
   "outputs": [
    {
     "data": {
      "text/plain": [
       "[-20/11]"
      ]
     },
     "execution_count": 4,
     "metadata": {},
     "output_type": "execute_result"
    }
   ],
   "source": [
    "Symbol('a')\n",
    "solve(sympify(\"Eq(2*a-(8*a+1)-(a+2)*5, 9)\"))"
   ]
  },
  {
   "cell_type": "markdown",
   "metadata": {},
   "source": [
    "#### 題目4.\n",
    "**x + y - 16 = 0  \n",
    "10x +25y - 250 = 0**"
   ]
  },
  {
   "cell_type": "code",
   "execution_count": 2,
   "metadata": {},
   "outputs": [
    {
     "data": {
      "text/plain": [
       "[{x: 10, y: 6}]"
      ]
     },
     "execution_count": 2,
     "metadata": {},
     "output_type": "execute_result"
    }
   ],
   "source": [
    "from sympy.solvers import solve\n",
    "from sympy import symbols\n",
    "x, y = symbols('x, y')\n",
    "solve([x + y - 16, 10*x +25*y - 250], dict=True)"
   ]
  },
  {
   "cell_type": "markdown",
   "metadata": {},
   "source": [
    "#### 題目5. \n",
    "**-1a + 3b + 72 = 0**  \n",
    "**3a - 4b - 4c + 4 = 0**  \n",
    "**-20a - 12b +5c +50= 0**"
   ]
  },
  {
   "cell_type": "code",
   "execution_count": 4,
   "metadata": {},
   "outputs": [
    {
     "data": {
      "text/plain": [
       "{a: 12, b: -20, c: -10}"
      ]
     },
     "execution_count": 4,
     "metadata": {},
     "output_type": "execute_result"
    }
   ],
   "source": [
    "from sympy.core import sympify\n",
    "solve([sympify(\"Eq(-1*a + 3*b + 72, 0)\"), \n",
    "       sympify(\"Eq(3*a + 4*b - 4*c + 4, 0)\"), \n",
    "       sympify(\"Eq(-20*a + -12*b + 5*c + 50, 0)\")])"
   ]
  },
  {
   "cell_type": "code",
   "execution_count": 5,
   "metadata": {},
   "outputs": [
    {
     "data": {
      "text/plain": [
       "{x: 5, y: 7}"
      ]
     },
     "execution_count": 5,
     "metadata": {},
     "output_type": "execute_result"
    }
   ],
   "source": [
    "from sympy.core import sympify\n",
    "from sympy.solvers import solve\n",
    "solve([sympify(\"Eq((x-2)*(y+5), (x-1)*(y+2))\"), \n",
    "       sympify(\"Eq((y-3)*(x+4), (x+7)*(y-4))\")])"
   ]
  },
  {
   "cell_type": "code",
   "execution_count": 7,
   "metadata": {},
   "outputs": [
    {
     "data": {
      "text/plain": [
       "{x: -3, y: -4}"
      ]
     },
     "execution_count": 7,
     "metadata": {},
     "output_type": "execute_result"
    }
   ],
   "source": [
    "from sympy.core import sympify\n",
    "from sympy.solvers import solve\n",
    "solve([sympify(\"Eq(3*(2*x-5)+2*y, -41)\"), \n",
    "       sympify(\"Eq((x-3*y)/9-y, 5)\")])"
   ]
  },
  {
   "cell_type": "markdown",
   "metadata": {},
   "source": [
    "### Numpy\n",
    "將方程式轉成矩陣，進行求解"
   ]
  },
  {
   "cell_type": "markdown",
   "metadata": {},
   "source": [
    "#### 題目5. \n",
    "**1x + 2y =5**  \n",
    "**y - 3z = 5**  \n",
    "**3x - z = 4**"
   ]
  },
  {
   "cell_type": "code",
   "execution_count": 16,
   "metadata": {},
   "outputs": [
    {
     "name": "stdout",
     "output_type": "stream",
     "text": [
      "[ 1.  2. -1.]\n"
     ]
    }
   ],
   "source": [
    "import numpy as np\n",
    "a = np.array([[1 , 2, 0], [0, 1, -3],[3, 0, -1]])\n",
    "b = np.array([5, 5, 4])\n",
    "print(np.linalg.solve(a, b))"
   ]
  }
 ],
 "metadata": {
  "kernelspec": {
   "display_name": "Python 3",
   "language": "python",
   "name": "python3"
  },
  "language_info": {
   "codemirror_mode": {
    "name": "ipython",
    "version": 3
   },
   "file_extension": ".py",
   "mimetype": "text/x-python",
   "name": "python",
   "nbconvert_exporter": "python",
   "pygments_lexer": "ipython3",
   "version": "3.8.3"
  }
 },
 "nbformat": 4,
 "nbformat_minor": 4
}
