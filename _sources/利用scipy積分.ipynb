{
 "cells": [
  {
   "cell_type": "markdown",
   "metadata": {},
   "source": [
    "# 利用scipy進行積分\n",
    "[題目來源](http://www.math-exercises.com/limits-derivatives-integrals/definite-integral-of-a-function) \n",
    "\n",
    "1c, 1d, 1e"
   ]
  },
  {
   "cell_type": "markdown",
   "metadata": {},
   "source": [
    "scipy方法:\n",
    "i, e = integrate.quad(lambda x: 方程式, 上限, 下限)\n",
    "\n",
    "i:解，e:誤差值\n",
    "\n",
    "## 題目一:   \n",
    "$\\int_{-2}^1 {x^3} \\,{\\rm d}x $"
   ]
  },
  {
   "cell_type": "code",
   "execution_count": 3,
   "metadata": {},
   "outputs": [
    {
     "name": "stdout",
     "output_type": "stream",
     "text": [
      "-3.749999999999999 4.718443591529924e-14\n"
     ]
    }
   ],
   "source": [
    "import scipy.integrate as integrate\n",
    "\n",
    "def f(x):\n",
    "    return x**3\n",
    "\n",
    "i, e = integrate.quad(lambda x: f(x), -2, 1)\n",
    "\n",
    "print(i, e)  #i:解， e:誤差值"
   ]
  },
  {
   "cell_type": "markdown",
   "metadata": {},
   "source": [
    "## 題目二:\n",
    "$\\int_0^2 {3x^3-2x+5} \\,{\\rm d}x $"
   ]
  },
  {
   "cell_type": "code",
   "execution_count": 4,
   "metadata": {},
   "outputs": [
    {
     "name": "stdout",
     "output_type": "stream",
     "text": [
      "18.0 1.9984014443252818e-13\n"
     ]
    }
   ],
   "source": [
    "import scipy.integrate as integrate\n",
    "\n",
    "def f(x):\n",
    "    return 3*x**3 -2*x + 5\n",
    "\n",
    "i, e = integrate.quad(lambda x: f(x), 0, 2)\n",
    "\n",
    "print(i, e)"
   ]
  },
  {
   "cell_type": "markdown",
   "metadata": {},
   "source": [
    "## 題目三:\n",
    "$\\int_1^4 {-x + \\frac4x} \\,{\\rm d}x $"
   ]
  },
  {
   "cell_type": "code",
   "execution_count": 5,
   "metadata": {},
   "outputs": [
    {
     "name": "stdout",
     "output_type": "stream",
     "text": [
      "191.25 2.123301534595612e-12\n"
     ]
    }
   ],
   "source": [
    "import scipy.integrate as integrate\n",
    "\n",
    "def f(x):\n",
    "    return 3*x**3 -2*x + 5\n",
    "\n",
    "i, e = integrate.quad(lambda x: f(x), 1, 4)\n",
    "\n",
    "print(i, e)"
   ]
  },
  {
   "cell_type": "markdown",
   "metadata": {},
   "source": [
    "無窮大:\n",
    "import numpy as np\n",
    "np.inf\n",
    "\n",
    "自然指數\n",
    "np.exp(...)\n",
    "\n",
    "import math\n",
    "math.e**(...)"
   ]
  }
 ],
 "metadata": {
  "kernelspec": {
   "display_name": "Python 3",
   "language": "python",
   "name": "python3"
  },
  "language_info": {
   "codemirror_mode": {
    "name": "ipython",
    "version": 3
   },
   "file_extension": ".py",
   "mimetype": "text/x-python",
   "name": "python",
   "nbconvert_exporter": "python",
   "pygments_lexer": "ipython3",
   "version": "3.8.3"
  }
 },
 "nbformat": 4,
 "nbformat_minor": 4
}
